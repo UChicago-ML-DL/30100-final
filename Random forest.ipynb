{
 "cells": [
  {
   "cell_type": "markdown",
   "metadata": {},
   "source": [
    "### Research Question"
   ]
  },
  {
   "cell_type": "markdown",
   "metadata": {},
   "source": [
    "Media plays a crucial role in shaping public perception, yet different news sources often frame the same event in varied ways, reflecting ideological biases. This study seeks to explore the extent to which media sources differ in their framing of news and how machine learning can be used to categorize statements by their ideological alignment. By leveraging natural language processing (NLP) techniques and machine learning models, this research aims to classify news articles based on ideological bias—left, neutral, or right—thus contributing to the broader discourse on media objectivity and automated content analysis.\n",
    "\n",
    "Previous research has demonstrated the effectiveness of machine learning techniques in identifying media bias and political ideology in news articles. Several key studies provide a strong foundation for this investigation:\n",
    "\n",
    "Fiore (2019) explores the automatic identification of political ideology in online news, highlighting that machine learning classifiers can outperform human annotators in categorizing ideological leanings. The study underscores the potential of text-based features such as word usage, sentiment, and topic modeling in detecting political bias, reinforcing the feasibility of automated classification techniques.\n",
    "\n",
    "Chao et al. (2022) apply bidirectional Long Short-Term Memory (BiLSTM) neural networks to analyze media bias and content quality. Their findings suggest that deep learning models, particularly those leveraging contextual embedding methods such as word2vec, BERT, and LLaMA, significantly improve classification performance by capturing nuanced semantic differences in political discourse.\n",
    "\n",
    "Martín-Forero et al. (2022) examine traditional machine learning approaches, including Random Forest and Logistic Regression, for political ideology detection. Their study finds that these models perform competitively, even without deep learning, suggesting that ensemble learning techniques—such as boosting and stacking—can further enhance classification accuracy. Additionally, the research highlights the importance of feature engineering, including source credibility and citation patterns, in improving model interpretability.\n",
    "\n",
    "Research Question:\n",
    "\n",
    "To what extent do media sources differ in their framing of news, and how can machine learning be used to categorize statements by their ideological alignment?\n",
    "\n",
    "Task Type: Multi-Class Classification\n",
    "\n",
    "The problem of identifying ideological bias in news content can be framed as a multi-class classification task, where statements are categorized into three distinct ideological groups:\n",
    "\t•\tLeft (Liberal/Progressive)\n",
    "\t•\tNeutral (Centrist, Objective)\n",
    "\t•\tRight (Conservative)\n",
    "\n",
    "This is a supervised learning problem, where models are trained on labeled datasets containing news articles with known ideological orientations.\n",
    "\n",
    "Machine Learning Models for Evaluation\n",
    "\n",
    "To determine the most effective approach, a combination of traditional, deep learning, and ensemble models will be evaluated:\n",
    "\n",
    "Baseline Models (Traditional Machine Learning)\n",
    "\t•\tRandom Forest: A tree-based model capable of capturing feature interactions.\n",
    "\t•\tLogistic Regression: A simple, interpretable model for analyzing word impact.\n",
    "\n",
    "Deep Learning Models (Advanced NLP)\n",
    "\t•\tLLaMA (Large Language Model Meta AI): A state-of-the-art transformer-based model known for its accuracy in NLP tasks.\n",
    "\t•\tBidirectional LSTM (BiLSTM): A recurrent neural network model that effectively captures contextual dependencies in political language.\n",
    "\n",
    "Ensemble and Boosting Methods\n",
    "\t•\tBoosting (XGBoost, AdaBoost, LightGBM): Techniques that iteratively refine weak classifiers for improved performance.\n",
    "\t•\tStacking (Hybrid Model): Combining multiple models (e.g., blending Random Forest, LLaMA, and BiLSTM) to enhance classification accuracy.\n"
   ]
  },
  {
   "cell_type": "code",
   "execution_count": 13,
   "metadata": {},
   "outputs": [],
   "source": [
    "import numpy as np\n",
    "import pandas as pd\n",
    "import matplotlib.pyplot as plt\n",
    "import seaborn as sns\n",
    "from tqdm import tqdm\n",
    "import os\n",
    "import json"
   ]
  },
  {
   "cell_type": "markdown",
   "metadata": {},
   "source": [
    "### Load in the data"
   ]
  },
  {
   "cell_type": "code",
   "execution_count": 14,
   "metadata": {},
   "outputs": [],
   "source": [
    "df = pd.read_csv('/Users/apple/Desktop/30100-final/data/data_random_split.csv')"
   ]
  },
  {
   "cell_type": "code",
   "execution_count": 15,
   "metadata": {},
   "outputs": [
    {
     "data": {
      "text/html": [
       "<div>\n",
       "<style scoped>\n",
       "    .dataframe tbody tr th:only-of-type {\n",
       "        vertical-align: middle;\n",
       "    }\n",
       "\n",
       "    .dataframe tbody tr th {\n",
       "        vertical-align: top;\n",
       "    }\n",
       "\n",
       "    .dataframe thead th {\n",
       "        text-align: right;\n",
       "    }\n",
       "</style>\n",
       "<table border=\"1\" class=\"dataframe\">\n",
       "  <thead>\n",
       "    <tr style=\"text-align: right;\">\n",
       "      <th></th>\n",
       "      <th>topic</th>\n",
       "      <th>source</th>\n",
       "      <th>bias</th>\n",
       "      <th>url</th>\n",
       "      <th>title</th>\n",
       "      <th>date</th>\n",
       "      <th>authors</th>\n",
       "      <th>content</th>\n",
       "      <th>content_original</th>\n",
       "      <th>source_url</th>\n",
       "      <th>bias_text</th>\n",
       "      <th>ID</th>\n",
       "      <th>split</th>\n",
       "    </tr>\n",
       "  </thead>\n",
       "  <tbody>\n",
       "    <tr>\n",
       "      <th>0</th>\n",
       "      <td>coronavirus</td>\n",
       "      <td>The Guardian</td>\n",
       "      <td>0</td>\n",
       "      <td>https://www.theguardian.com/world/2020/mar/26/...</td>\n",
       "      <td>US coronavirus stimulus checks: are you eligib...</td>\n",
       "      <td>2020-03-26</td>\n",
       "      <td>Lauren Aratani</td>\n",
       "      <td>Most taxpayers will get a check from the $ 2tn...</td>\n",
       "      <td>Most taxpayers will get a check from the $2tn ...</td>\n",
       "      <td>www.theguardian.com</td>\n",
       "      <td>left</td>\n",
       "      <td>IBgtqEHUEcjyMriR</td>\n",
       "      <td>train</td>\n",
       "    </tr>\n",
       "    <tr>\n",
       "      <th>1</th>\n",
       "      <td>healthcare</td>\n",
       "      <td>Washington Times</td>\n",
       "      <td>2</td>\n",
       "      <td>http://www.washingtontimes.com/news/2013/feb/1...</td>\n",
       "      <td>After Obamacare health exchange deadline passe...</td>\n",
       "      <td>2013-02-16</td>\n",
       "      <td>Tom Howell Jr.</td>\n",
       "      <td>The backbone of President Obama ’ s health car...</td>\n",
       "      <td>The backbone of President Obama’s health care ...</td>\n",
       "      <td>www.washingtontimes.com</td>\n",
       "      <td>right</td>\n",
       "      <td>LC3zdsbACLILzBhY</td>\n",
       "      <td>train</td>\n",
       "    </tr>\n",
       "    <tr>\n",
       "      <th>2</th>\n",
       "      <td>politics</td>\n",
       "      <td>National Review</td>\n",
       "      <td>2</td>\n",
       "      <td>https://www.nationalreview.com/2019/08/the-doj...</td>\n",
       "      <td>The DOJ Will Not Prosecute James Comey over Tr...</td>\n",
       "      <td>2019-08-03</td>\n",
       "      <td>Andrew C. Mccarthy, John Mccormack, Michael Br...</td>\n",
       "      <td>Then-FBI Director James Comey testifying on Ca...</td>\n",
       "      <td>Then-FBI Director James Comey testifying on Ca...</td>\n",
       "      <td>www.nationalreview.com</td>\n",
       "      <td>right</td>\n",
       "      <td>W084H19Vniu1Z24f</td>\n",
       "      <td>train</td>\n",
       "    </tr>\n",
       "    <tr>\n",
       "      <th>3</th>\n",
       "      <td>media_bias</td>\n",
       "      <td>NPR Online News</td>\n",
       "      <td>1</td>\n",
       "      <td>https://www.npr.org/2018/08/27/642356784/fox-n...</td>\n",
       "      <td>Fox News Hasn't Always Shared Robert Driscoll'...</td>\n",
       "      <td>2018-08-27</td>\n",
       "      <td>David Folkenflik</td>\n",
       "      <td>Fox News Has n't Always Shared Robert Driscoll...</td>\n",
       "      <td>Fox News Hasn't Always Shared Robert Driscoll'...</td>\n",
       "      <td>www.npr.org</td>\n",
       "      <td>center</td>\n",
       "      <td>Lcvv69hlu4J5Foc3</td>\n",
       "      <td>train</td>\n",
       "    </tr>\n",
       "    <tr>\n",
       "      <th>4</th>\n",
       "      <td>trade</td>\n",
       "      <td>Bloomberg</td>\n",
       "      <td>1</td>\n",
       "      <td>https://www.bloomberg.com/news/articles/2019-0...</td>\n",
       "      <td>Wilbur Ross Says U.S., China ‘Miles and Miles’...</td>\n",
       "      <td>2019-01-24</td>\n",
       "      <td>Brendan Murray, Andrew Mayeda</td>\n",
       "      <td>LISTEN TO ARTICLE 2:15 SHARE THIS ARTICLE Shar...</td>\n",
       "      <td>LISTEN TO ARTICLE 2:15 SHARE THIS ARTICLE Shar...</td>\n",
       "      <td>www.bloomberg.com</td>\n",
       "      <td>center</td>\n",
       "      <td>ZW7MmqXMtiJgL6jY</td>\n",
       "      <td>train</td>\n",
       "    </tr>\n",
       "  </tbody>\n",
       "</table>\n",
       "</div>"
      ],
      "text/plain": [
       "         topic            source  bias  \\\n",
       "0  coronavirus      The Guardian     0   \n",
       "1   healthcare  Washington Times     2   \n",
       "2     politics   National Review     2   \n",
       "3   media_bias   NPR Online News     1   \n",
       "4        trade         Bloomberg     1   \n",
       "\n",
       "                                                 url  \\\n",
       "0  https://www.theguardian.com/world/2020/mar/26/...   \n",
       "1  http://www.washingtontimes.com/news/2013/feb/1...   \n",
       "2  https://www.nationalreview.com/2019/08/the-doj...   \n",
       "3  https://www.npr.org/2018/08/27/642356784/fox-n...   \n",
       "4  https://www.bloomberg.com/news/articles/2019-0...   \n",
       "\n",
       "                                               title        date  \\\n",
       "0  US coronavirus stimulus checks: are you eligib...  2020-03-26   \n",
       "1  After Obamacare health exchange deadline passe...  2013-02-16   \n",
       "2  The DOJ Will Not Prosecute James Comey over Tr...  2019-08-03   \n",
       "3  Fox News Hasn't Always Shared Robert Driscoll'...  2018-08-27   \n",
       "4  Wilbur Ross Says U.S., China ‘Miles and Miles’...  2019-01-24   \n",
       "\n",
       "                                             authors  \\\n",
       "0                                     Lauren Aratani   \n",
       "1                                     Tom Howell Jr.   \n",
       "2  Andrew C. Mccarthy, John Mccormack, Michael Br...   \n",
       "3                                   David Folkenflik   \n",
       "4                      Brendan Murray, Andrew Mayeda   \n",
       "\n",
       "                                             content  \\\n",
       "0  Most taxpayers will get a check from the $ 2tn...   \n",
       "1  The backbone of President Obama ’ s health car...   \n",
       "2  Then-FBI Director James Comey testifying on Ca...   \n",
       "3  Fox News Has n't Always Shared Robert Driscoll...   \n",
       "4  LISTEN TO ARTICLE 2:15 SHARE THIS ARTICLE Shar...   \n",
       "\n",
       "                                    content_original               source_url  \\\n",
       "0  Most taxpayers will get a check from the $2tn ...      www.theguardian.com   \n",
       "1  The backbone of President Obama’s health care ...  www.washingtontimes.com   \n",
       "2  Then-FBI Director James Comey testifying on Ca...   www.nationalreview.com   \n",
       "3  Fox News Hasn't Always Shared Robert Driscoll'...              www.npr.org   \n",
       "4  LISTEN TO ARTICLE 2:15 SHARE THIS ARTICLE Shar...        www.bloomberg.com   \n",
       "\n",
       "  bias_text                ID  split  \n",
       "0      left  IBgtqEHUEcjyMriR  train  \n",
       "1     right  LC3zdsbACLILzBhY  train  \n",
       "2     right  W084H19Vniu1Z24f  train  \n",
       "3    center  Lcvv69hlu4J5Foc3  train  \n",
       "4    center  ZW7MmqXMtiJgL6jY  train  "
      ]
     },
     "execution_count": 15,
     "metadata": {},
     "output_type": "execute_result"
    }
   ],
   "source": [
    "df.head()"
   ]
  },
  {
   "cell_type": "code",
   "execution_count": 16,
   "metadata": {},
   "outputs": [
    {
     "data": {
      "text/plain": [
       "Index(['topic', 'source', 'bias', 'url', 'title', 'date', 'authors', 'content',\n",
       "       'content_original', 'source_url', 'bias_text', 'ID', 'split'],\n",
       "      dtype='object')"
      ]
     },
     "execution_count": 16,
     "metadata": {},
     "output_type": "execute_result"
    }
   ],
   "source": [
    "df.columns"
   ]
  },
  {
   "cell_type": "code",
   "execution_count": 17,
   "metadata": {},
   "outputs": [
    {
     "data": {
      "text/plain": [
       "topic                  0\n",
       "source                 0\n",
       "bias                   0\n",
       "url                    0\n",
       "title                  0\n",
       "date                4039\n",
       "authors             9262\n",
       "content                0\n",
       "content_original       0\n",
       "source_url             0\n",
       "bias_text              0\n",
       "ID                     0\n",
       "split                  0\n",
       "dtype: int64"
      ]
     },
     "execution_count": 17,
     "metadata": {},
     "output_type": "execute_result"
    }
   ],
   "source": [
    "#check missing values in the dataset\n",
    "df.isnull().sum()"
   ]
  },
  {
   "cell_type": "markdown",
   "metadata": {},
   "source": [
    "### Text Preprocessing"
   ]
  },
  {
   "cell_type": "code",
   "execution_count": null,
   "metadata": {},
   "outputs": [],
   "source": [
    "from transformers import AutoTokenizer\n",
    "from sklearn.feature_extraction.text import TfidfVectorizer\n",
    "import pandas as pd\n",
    "from tqdm import tqdm\n",
    "\n",
    "def tokenize_and_tfidf(df, text_column='content_original', model_name=\"bert-base-uncased\"):\n",
    "    \"\"\"\n",
    "    Tokenizes text using a Transformer tokenizer and applies TF-IDF vectorization.\n",
    "\n",
    "    Parameters:\n",
    "    - df (pd.DataFrame): DataFrame containing a column with text data.\n",
    "    - text_column (str): Column name that contains raw text.\n",
    "    - model_name (str): Hugging Face model to use for tokenization.\n",
    "\n",
    "    Returns:\n",
    "    - tfidf_matrix (sparse matrix): TF-IDF transformed matrix of tokenized text.\n",
    "    - feature_names (list): List of TF-IDF feature names (tokens).\n",
    "    \"\"\"\n",
    "\n",
    "    # Enable progress bar\n",
    "    tqdm.pandas()\n",
    "\n",
    "    # Apply TF-IDF and remove stopwords with automatic tokenizer\n",
    "    tfidf = TfidfVectorizer(stop_words='english', max_features=5000, min_df=5)\n",
    "    tfidf_matrix = tfidf.fit_transform(df[text_column])\n",
    "\n",
    "    return tfidf_matrix, tfidf.get_feature_names_out()"
   ]
  },
  {
   "cell_type": "code",
   "execution_count": null,
   "metadata": {},
   "outputs": [
    {
     "name": "stdout",
     "output_type": "stream",
     "text": [
      "TF-IDF Matrix Shape: (36274, 5000)\n",
      "Sample Tokens: ['00' '000' '01' '02' '03' '04' '05' '10' '100' '11']\n"
     ]
    }
   ],
   "source": [
    "# Run Tokenization and TF-IDF\n",
    "tfidf_matrix, feature_names = tokenize_and_tfidf(df, text_column='content_original')\n",
    "\n",
    "# Check the shape of the matrix\n",
    "print(\"TF-IDF Matrix Shape:\", tfidf_matrix.shape)\n",
    "\n",
    "# Display sample feature names (tokens)\n",
    "print(\"Sample Tokens:\", feature_names[:10])"
   ]
  },
  {
   "cell_type": "code",
   "execution_count": null,
   "metadata": {},
   "outputs": [
    {
     "data": {
      "text/html": [
       "<div>\n",
       "<style scoped>\n",
       "    .dataframe tbody tr th:only-of-type {\n",
       "        vertical-align: middle;\n",
       "    }\n",
       "\n",
       "    .dataframe tbody tr th {\n",
       "        vertical-align: top;\n",
       "    }\n",
       "\n",
       "    .dataframe thead th {\n",
       "        text-align: right;\n",
       "    }\n",
       "</style>\n",
       "<table border=\"1\" class=\"dataframe\">\n",
       "  <thead>\n",
       "    <tr style=\"text-align: right;\">\n",
       "      <th></th>\n",
       "      <th>00</th>\n",
       "      <th>000</th>\n",
       "      <th>01</th>\n",
       "      <th>02</th>\n",
       "      <th>03</th>\n",
       "      <th>04</th>\n",
       "      <th>05</th>\n",
       "      <th>10</th>\n",
       "      <th>100</th>\n",
       "      <th>11</th>\n",
       "      <th>...</th>\n",
       "      <th>yesterday</th>\n",
       "      <th>york</th>\n",
       "      <th>young</th>\n",
       "      <th>younger</th>\n",
       "      <th>youth</th>\n",
       "      <th>youtube</th>\n",
       "      <th>zelensky</th>\n",
       "      <th>zero</th>\n",
       "      <th>zone</th>\n",
       "      <th>zuckerberg</th>\n",
       "    </tr>\n",
       "  </thead>\n",
       "  <tbody>\n",
       "    <tr>\n",
       "      <th>0</th>\n",
       "      <td>0.0</td>\n",
       "      <td>0.141295</td>\n",
       "      <td>0.0</td>\n",
       "      <td>0.0</td>\n",
       "      <td>0.0</td>\n",
       "      <td>0.0</td>\n",
       "      <td>0.0</td>\n",
       "      <td>0.018538</td>\n",
       "      <td>0.023644</td>\n",
       "      <td>0.0</td>\n",
       "      <td>...</td>\n",
       "      <td>0.0</td>\n",
       "      <td>0.00000</td>\n",
       "      <td>0.0</td>\n",
       "      <td>0.0</td>\n",
       "      <td>0.0</td>\n",
       "      <td>0.0</td>\n",
       "      <td>0.0</td>\n",
       "      <td>0.0</td>\n",
       "      <td>0.0</td>\n",
       "      <td>0.0</td>\n",
       "    </tr>\n",
       "    <tr>\n",
       "      <th>1</th>\n",
       "      <td>0.0</td>\n",
       "      <td>0.000000</td>\n",
       "      <td>0.0</td>\n",
       "      <td>0.0</td>\n",
       "      <td>0.0</td>\n",
       "      <td>0.0</td>\n",
       "      <td>0.0</td>\n",
       "      <td>0.000000</td>\n",
       "      <td>0.000000</td>\n",
       "      <td>0.0</td>\n",
       "      <td>...</td>\n",
       "      <td>0.0</td>\n",
       "      <td>0.00000</td>\n",
       "      <td>0.0</td>\n",
       "      <td>0.0</td>\n",
       "      <td>0.0</td>\n",
       "      <td>0.0</td>\n",
       "      <td>0.0</td>\n",
       "      <td>0.0</td>\n",
       "      <td>0.0</td>\n",
       "      <td>0.0</td>\n",
       "    </tr>\n",
       "    <tr>\n",
       "      <th>2</th>\n",
       "      <td>0.0</td>\n",
       "      <td>0.000000</td>\n",
       "      <td>0.0</td>\n",
       "      <td>0.0</td>\n",
       "      <td>0.0</td>\n",
       "      <td>0.0</td>\n",
       "      <td>0.0</td>\n",
       "      <td>0.000000</td>\n",
       "      <td>0.000000</td>\n",
       "      <td>0.0</td>\n",
       "      <td>...</td>\n",
       "      <td>0.0</td>\n",
       "      <td>0.01074</td>\n",
       "      <td>0.0</td>\n",
       "      <td>0.0</td>\n",
       "      <td>0.0</td>\n",
       "      <td>0.0</td>\n",
       "      <td>0.0</td>\n",
       "      <td>0.0</td>\n",
       "      <td>0.0</td>\n",
       "      <td>0.0</td>\n",
       "    </tr>\n",
       "    <tr>\n",
       "      <th>3</th>\n",
       "      <td>0.0</td>\n",
       "      <td>0.000000</td>\n",
       "      <td>0.0</td>\n",
       "      <td>0.0</td>\n",
       "      <td>0.0</td>\n",
       "      <td>0.0</td>\n",
       "      <td>0.0</td>\n",
       "      <td>0.000000</td>\n",
       "      <td>0.000000</td>\n",
       "      <td>0.0</td>\n",
       "      <td>...</td>\n",
       "      <td>0.0</td>\n",
       "      <td>0.00000</td>\n",
       "      <td>0.0</td>\n",
       "      <td>0.0</td>\n",
       "      <td>0.0</td>\n",
       "      <td>0.0</td>\n",
       "      <td>0.0</td>\n",
       "      <td>0.0</td>\n",
       "      <td>0.0</td>\n",
       "      <td>0.0</td>\n",
       "    </tr>\n",
       "    <tr>\n",
       "      <th>4</th>\n",
       "      <td>0.0</td>\n",
       "      <td>0.000000</td>\n",
       "      <td>0.0</td>\n",
       "      <td>0.0</td>\n",
       "      <td>0.0</td>\n",
       "      <td>0.0</td>\n",
       "      <td>0.0</td>\n",
       "      <td>0.036063</td>\n",
       "      <td>0.000000</td>\n",
       "      <td>0.0</td>\n",
       "      <td>...</td>\n",
       "      <td>0.0</td>\n",
       "      <td>0.00000</td>\n",
       "      <td>0.0</td>\n",
       "      <td>0.0</td>\n",
       "      <td>0.0</td>\n",
       "      <td>0.0</td>\n",
       "      <td>0.0</td>\n",
       "      <td>0.0</td>\n",
       "      <td>0.0</td>\n",
       "      <td>0.0</td>\n",
       "    </tr>\n",
       "  </tbody>\n",
       "</table>\n",
       "<p>5 rows × 5000 columns</p>\n",
       "</div>"
      ],
      "text/plain": [
       "    00       000   01   02   03   04   05        10       100   11  ...  \\\n",
       "0  0.0  0.141295  0.0  0.0  0.0  0.0  0.0  0.018538  0.023644  0.0  ...   \n",
       "1  0.0  0.000000  0.0  0.0  0.0  0.0  0.0  0.000000  0.000000  0.0  ...   \n",
       "2  0.0  0.000000  0.0  0.0  0.0  0.0  0.0  0.000000  0.000000  0.0  ...   \n",
       "3  0.0  0.000000  0.0  0.0  0.0  0.0  0.0  0.000000  0.000000  0.0  ...   \n",
       "4  0.0  0.000000  0.0  0.0  0.0  0.0  0.0  0.036063  0.000000  0.0  ...   \n",
       "\n",
       "   yesterday     york  young  younger  youth  youtube  zelensky  zero  zone  \\\n",
       "0        0.0  0.00000    0.0      0.0    0.0      0.0       0.0   0.0   0.0   \n",
       "1        0.0  0.00000    0.0      0.0    0.0      0.0       0.0   0.0   0.0   \n",
       "2        0.0  0.01074    0.0      0.0    0.0      0.0       0.0   0.0   0.0   \n",
       "3        0.0  0.00000    0.0      0.0    0.0      0.0       0.0   0.0   0.0   \n",
       "4        0.0  0.00000    0.0      0.0    0.0      0.0       0.0   0.0   0.0   \n",
       "\n",
       "   zuckerberg  \n",
       "0         0.0  \n",
       "1         0.0  \n",
       "2         0.0  \n",
       "3         0.0  \n",
       "4         0.0  \n",
       "\n",
       "[5 rows x 5000 columns]"
      ]
     },
     "execution_count": 7,
     "metadata": {},
     "output_type": "execute_result"
    }
   ],
   "source": [
    "# convert the matrix to a pandas DataFrame\n",
    "tfidf_df = pd.DataFrame(tfidf_matrix.toarray(), columns=feature_names)\n",
    "tfidf_df.head()"
   ]
  },
  {
   "cell_type": "code",
   "execution_count": null,
   "metadata": {},
   "outputs": [
    {
     "name": "stdout",
     "output_type": "stream",
     "text": [
      "TF-IDF Matrix Shape: (36274, 5000)\n"
     ]
    }
   ],
   "source": [
    "import re\n",
    "from sklearn.feature_extraction.text import TfidfVectorizer\n",
    "# remove numeric tokens in tfidf_df\n",
    "def remove_numeric_tokens(text):\n",
    "    return \" \".join([word for word in text.split() if not re.fullmatch(r\"\\d+\", word)])\n",
    "\n",
    "# Apply the function to the 'content' column\n",
    "df['clean_text'] = df['content_original'].apply(remove_numeric_tokens)\n",
    "\n",
    "# Run Tokenization and TF-IDF\n",
    "tfidf_matrix, feature_names = tokenize_and_tfidf(df, text_column='clean_text')\n",
    "\n",
    "# Check the shape of the matrix\n",
    "print(\"TF-IDF Matrix Shape:\", tfidf_matrix.shape)"
   ]
  },
  {
   "cell_type": "code",
   "execution_count": null,
   "metadata": {},
   "outputs": [
    {
     "data": {
      "text/html": [
       "<div>\n",
       "<style scoped>\n",
       "    .dataframe tbody tr th:only-of-type {\n",
       "        vertical-align: middle;\n",
       "    }\n",
       "\n",
       "    .dataframe tbody tr th {\n",
       "        vertical-align: top;\n",
       "    }\n",
       "\n",
       "    .dataframe thead th {\n",
       "        text-align: right;\n",
       "    }\n",
       "</style>\n",
       "<table border=\"1\" class=\"dataframe\">\n",
       "  <thead>\n",
       "    <tr style=\"text-align: right;\">\n",
       "      <th></th>\n",
       "      <th>00</th>\n",
       "      <th>000</th>\n",
       "      <th>01</th>\n",
       "      <th>02</th>\n",
       "      <th>03</th>\n",
       "      <th>04</th>\n",
       "      <th>05</th>\n",
       "      <th>10</th>\n",
       "      <th>100</th>\n",
       "      <th>11</th>\n",
       "      <th>...</th>\n",
       "      <th>yesterday</th>\n",
       "      <th>york</th>\n",
       "      <th>young</th>\n",
       "      <th>younger</th>\n",
       "      <th>youth</th>\n",
       "      <th>youtube</th>\n",
       "      <th>zelensky</th>\n",
       "      <th>zero</th>\n",
       "      <th>zone</th>\n",
       "      <th>zuckerberg</th>\n",
       "    </tr>\n",
       "  </thead>\n",
       "  <tbody>\n",
       "    <tr>\n",
       "      <th>0</th>\n",
       "      <td>0.0</td>\n",
       "      <td>0.142333</td>\n",
       "      <td>0.0</td>\n",
       "      <td>0.0</td>\n",
       "      <td>0.0</td>\n",
       "      <td>0.0</td>\n",
       "      <td>0.0</td>\n",
       "      <td>0.0</td>\n",
       "      <td>0.028253</td>\n",
       "      <td>0.0</td>\n",
       "      <td>...</td>\n",
       "      <td>0.0</td>\n",
       "      <td>0.000000</td>\n",
       "      <td>0.0</td>\n",
       "      <td>0.0</td>\n",
       "      <td>0.0</td>\n",
       "      <td>0.0</td>\n",
       "      <td>0.0</td>\n",
       "      <td>0.0</td>\n",
       "      <td>0.0</td>\n",
       "      <td>0.0</td>\n",
       "    </tr>\n",
       "    <tr>\n",
       "      <th>1</th>\n",
       "      <td>0.0</td>\n",
       "      <td>0.000000</td>\n",
       "      <td>0.0</td>\n",
       "      <td>0.0</td>\n",
       "      <td>0.0</td>\n",
       "      <td>0.0</td>\n",
       "      <td>0.0</td>\n",
       "      <td>0.0</td>\n",
       "      <td>0.000000</td>\n",
       "      <td>0.0</td>\n",
       "      <td>...</td>\n",
       "      <td>0.0</td>\n",
       "      <td>0.000000</td>\n",
       "      <td>0.0</td>\n",
       "      <td>0.0</td>\n",
       "      <td>0.0</td>\n",
       "      <td>0.0</td>\n",
       "      <td>0.0</td>\n",
       "      <td>0.0</td>\n",
       "      <td>0.0</td>\n",
       "      <td>0.0</td>\n",
       "    </tr>\n",
       "    <tr>\n",
       "      <th>2</th>\n",
       "      <td>0.0</td>\n",
       "      <td>0.000000</td>\n",
       "      <td>0.0</td>\n",
       "      <td>0.0</td>\n",
       "      <td>0.0</td>\n",
       "      <td>0.0</td>\n",
       "      <td>0.0</td>\n",
       "      <td>0.0</td>\n",
       "      <td>0.000000</td>\n",
       "      <td>0.0</td>\n",
       "      <td>...</td>\n",
       "      <td>0.0</td>\n",
       "      <td>0.010687</td>\n",
       "      <td>0.0</td>\n",
       "      <td>0.0</td>\n",
       "      <td>0.0</td>\n",
       "      <td>0.0</td>\n",
       "      <td>0.0</td>\n",
       "      <td>0.0</td>\n",
       "      <td>0.0</td>\n",
       "      <td>0.0</td>\n",
       "    </tr>\n",
       "    <tr>\n",
       "      <th>3</th>\n",
       "      <td>0.0</td>\n",
       "      <td>0.000000</td>\n",
       "      <td>0.0</td>\n",
       "      <td>0.0</td>\n",
       "      <td>0.0</td>\n",
       "      <td>0.0</td>\n",
       "      <td>0.0</td>\n",
       "      <td>0.0</td>\n",
       "      <td>0.000000</td>\n",
       "      <td>0.0</td>\n",
       "      <td>...</td>\n",
       "      <td>0.0</td>\n",
       "      <td>0.000000</td>\n",
       "      <td>0.0</td>\n",
       "      <td>0.0</td>\n",
       "      <td>0.0</td>\n",
       "      <td>0.0</td>\n",
       "      <td>0.0</td>\n",
       "      <td>0.0</td>\n",
       "      <td>0.0</td>\n",
       "      <td>0.0</td>\n",
       "    </tr>\n",
       "    <tr>\n",
       "      <th>4</th>\n",
       "      <td>0.0</td>\n",
       "      <td>0.000000</td>\n",
       "      <td>0.0</td>\n",
       "      <td>0.0</td>\n",
       "      <td>0.0</td>\n",
       "      <td>0.0</td>\n",
       "      <td>0.0</td>\n",
       "      <td>0.0</td>\n",
       "      <td>0.000000</td>\n",
       "      <td>0.0</td>\n",
       "      <td>...</td>\n",
       "      <td>0.0</td>\n",
       "      <td>0.000000</td>\n",
       "      <td>0.0</td>\n",
       "      <td>0.0</td>\n",
       "      <td>0.0</td>\n",
       "      <td>0.0</td>\n",
       "      <td>0.0</td>\n",
       "      <td>0.0</td>\n",
       "      <td>0.0</td>\n",
       "      <td>0.0</td>\n",
       "    </tr>\n",
       "  </tbody>\n",
       "</table>\n",
       "<p>5 rows × 5000 columns</p>\n",
       "</div>"
      ],
      "text/plain": [
       "    00       000   01   02   03   04   05   10       100   11  ...  yesterday  \\\n",
       "0  0.0  0.142333  0.0  0.0  0.0  0.0  0.0  0.0  0.028253  0.0  ...        0.0   \n",
       "1  0.0  0.000000  0.0  0.0  0.0  0.0  0.0  0.0  0.000000  0.0  ...        0.0   \n",
       "2  0.0  0.000000  0.0  0.0  0.0  0.0  0.0  0.0  0.000000  0.0  ...        0.0   \n",
       "3  0.0  0.000000  0.0  0.0  0.0  0.0  0.0  0.0  0.000000  0.0  ...        0.0   \n",
       "4  0.0  0.000000  0.0  0.0  0.0  0.0  0.0  0.0  0.000000  0.0  ...        0.0   \n",
       "\n",
       "       york  young  younger  youth  youtube  zelensky  zero  zone  zuckerberg  \n",
       "0  0.000000    0.0      0.0    0.0      0.0       0.0   0.0   0.0         0.0  \n",
       "1  0.000000    0.0      0.0    0.0      0.0       0.0   0.0   0.0         0.0  \n",
       "2  0.010687    0.0      0.0    0.0      0.0       0.0   0.0   0.0         0.0  \n",
       "3  0.000000    0.0      0.0    0.0      0.0       0.0   0.0   0.0         0.0  \n",
       "4  0.000000    0.0      0.0    0.0      0.0       0.0   0.0   0.0         0.0  \n",
       "\n",
       "[5 rows x 5000 columns]"
      ]
     },
     "execution_count": 9,
     "metadata": {},
     "output_type": "execute_result"
    }
   ],
   "source": [
    "tfidf_df = tfidf_matrix\n",
    "tfidf_df =pd.DataFrame(tfidf_df.toarray(), columns=feature_names)\n",
    "tfidf_df.head()"
   ]
  },
  {
   "cell_type": "code",
   "execution_count": null,
   "metadata": {},
   "outputs": [
    {
     "name": "stdout",
     "output_type": "stream",
     "text": [
      "Top words for bias '0':\n",
      "trump        0.062361\n",
      "said         0.053437\n",
      "obama        0.034122\n",
      "president    0.032046\n",
      "clinton      0.027243\n",
      "people       0.027083\n",
      "house        0.026968\n",
      "mr           0.025794\n",
      "campaign     0.023179\n",
      "new          0.022886\n",
      "dtype: float64 \n",
      "\n",
      "Top words for bias '1':\n",
      "trump        0.080715\n",
      "said         0.059386\n",
      "president    0.036051\n",
      "mr           0.029018\n",
      "house        0.028747\n",
      "says         0.028442\n",
      "people       0.024564\n",
      "democrats    0.022991\n",
      "new          0.022070\n",
      "state        0.021952\n",
      "dtype: float64 \n",
      "\n",
      "Top words for bias '2':\n",
      "trump        0.058360\n",
      "said         0.052559\n",
      "mr           0.045084\n",
      "president    0.036954\n",
      "obama        0.034182\n",
      "house        0.025885\n",
      "clinton      0.023884\n",
      "people       0.023549\n",
      "percent      0.023342\n",
      "state        0.021616\n",
      "dtype: float64 \n",
      "\n"
     ]
    }
   ],
   "source": [
    "# For each bias, get the top 10 words by average TF-IDF score\n",
    "for bias in biases:\n",
    "    mean_tfidf = tfidf_df[df['bias'] == bias].mean().drop('bias')\n",
    "    top_words = mean_tfidf.sort_values(ascending=False).head(10)\n",
    "    print(f\"Top words for bias '{bias}':\")\n",
    "    print(top_words, \"\\n\")"
   ]
  },
  {
   "cell_type": "markdown",
   "metadata": {},
   "source": [
    "# Model Training"
   ]
  },
  {
   "cell_type": "markdown",
   "metadata": {},
   "source": [
    "### Tree-Based Model"
   ]
  },
  {
   "cell_type": "code",
   "execution_count": 27,
   "metadata": {},
   "outputs": [
    {
     "data": {
      "text/plain": [
       "split\n",
       "train    27978\n",
       "valid     6996\n",
       "test      1300\n",
       "Name: count, dtype: int64"
      ]
     },
     "execution_count": 27,
     "metadata": {},
     "output_type": "execute_result"
    }
   ],
   "source": [
    "df[\"split\"].value_counts()"
   ]
  },
  {
   "cell_type": "code",
   "execution_count": 28,
   "metadata": {},
   "outputs": [],
   "source": [
    "from sklearn.ensemble import RandomForestClassifier\n",
    "from sklearn.metrics import accuracy_score, classification_report\n",
    "from sklearn.model_selection import train_test_split\n",
    "\n",
    "# Convert TF-IDF matrix to array\n",
    "X = tfidf_matrix.toarray()\n",
    "y = df['bias']\n",
    "\n",
    "X_train = X[df[\"split\"] == \"train\"]\n",
    "y_train = y[df[\"split\"] == \"train\"]\n",
    "X_val = X[df[\"split\"] == \"valid\"]\n",
    "y_val = y[df[\"split\"] == \"valid\"]\n",
    "X_test = X[df[\"split\"] == \"test\"]\n",
    "y_test = y[df[\"split\"] == \"test\"]"
   ]
  },
  {
   "cell_type": "code",
   "execution_count": null,
   "metadata": {},
   "outputs": [
    {
     "name": "stdout",
     "output_type": "stream",
     "text": [
      "Training Set Shape: (27978, 5000) (27978,)\n"
     ]
    }
   ],
   "source": [
    "print(\"Training Set Shape:\", X_train.shape, y_train.shape)"
   ]
  },
  {
   "cell_type": "code",
   "execution_count": null,
   "metadata": {},
   "outputs": [
    {
     "name": "stdout",
     "output_type": "stream",
     "text": [
      "Random Forest Accuracy: 0.6972555746140652\n",
      "Classification Report:\n",
      "               precision    recall  f1-score   support\n",
      "\n",
      "        left       0.76      0.63      0.69      2438\n",
      "      center       0.83      0.57      0.67      1998\n",
      "       right       0.61      0.87      0.72      2560\n",
      "\n",
      "    accuracy                           0.70      6996\n",
      "   macro avg       0.74      0.69      0.69      6996\n",
      "weighted avg       0.73      0.70      0.69      6996\n",
      "\n"
     ]
    }
   ],
   "source": [
    "# Train Random Forest model\n",
    "rf_clf = RandomForestClassifier(n_estimators=1000, random_state=42, n_jobs=-1)\n",
    "rf_clf.fit(X_train, y_train)\n",
    "\n",
    "# Predict on test set\n",
    "y_pred = rf_clf.predict(X_val)\n",
    "\n",
    "# Evaluate model performance\n",
    "accuracy = accuracy_score(y_val, y_pred)\n",
    "classification_rep = classification_report(y_val, y_pred, target_names=['left', 'center', 'right'])\n",
    "\n",
    "print(\"Random Forest Accuracy:\", accuracy)\n",
    "print(\"Classification Report:\\n\", classification_rep)"
   ]
  },
  {
   "cell_type": "code",
   "execution_count": null,
   "metadata": {},
   "outputs": [
    {
     "data": {
      "image/png": "[encoded data removed]",
      "text/plain": [
       "<Figure size 1000x600 with 1 Axes>"
      ]
     },
     "metadata": {},
     "output_type": "display_data"
    }
   ],
   "source": [
    "# Visualize the depth of the trees\n",
    "plt.figure(figsize=(10, 6))\n",
    "sns.histplot([estimator.tree_.max_depth for estimator in rf_clf.estimators_], bins=20)\n",
    "plt.title('Random Forest Tree Depth Distribution')\n",
    "plt.xlabel('Tree Depth')\n",
    "plt.ylabel('Number of Trees')\n",
    "plt.show()"
   ]
  },
  {
   "cell_type": "code",
   "execution_count": null,
   "metadata": {},
   "outputs": [
    {
     "name": "stdout",
     "output_type": "stream",
     "text": [
      "Fitting 3 folds for each of 15 candidates, totalling 45 fits\n",
      "[CV] END max_depth=125, min_samples_split=10, n_estimators=100; total time=   4.0s\n",
      "[CV] END max_depth=125, min_samples_split=10, n_estimators=100; total time=   3.6s\n",
      "[CV] END max_depth=125, min_samples_split=10, n_estimators=100; total time=   3.7s\n",
      "[CV] END max_depth=125, min_samples_split=2, n_estimators=1000; total time=  36.9s\n",
      "[CV] END max_depth=125, min_samples_split=2, n_estimators=1000; total time=  35.0s\n",
      "[CV] END max_depth=125, min_samples_split=2, n_estimators=1000; total time=  35.6s\n",
      "[CV] END max_depth=30, min_samples_split=10, n_estimators=100; total time=   3.0s\n",
      "[CV] END max_depth=30, min_samples_split=10, n_estimators=100; total time=   3.0s\n",
      "[CV] END max_depth=30, min_samples_split=10, n_estimators=100; total time=   3.1s\n",
      "[CV] END max_depth=30, min_samples_split=5, n_estimators=300; total time=   8.9s\n",
      "[CV] END max_depth=30, min_samples_split=5, n_estimators=300; total time=   8.9s\n",
      "[CV] END max_depth=30, min_samples_split=5, n_estimators=300; total time=   8.8s\n",
      "[CV] END max_depth=100, min_samples_split=2, n_estimators=100; total time=   3.7s\n",
      "[CV] END max_depth=100, min_samples_split=2, n_estimators=100; total time=   3.8s\n",
      "[CV] END max_depth=100, min_samples_split=2, n_estimators=100; total time=   3.7s\n",
      "[CV] END max_depth=30, min_samples_split=2, n_estimators=500; total time=  14.7s\n",
      "[CV] END max_depth=30, min_samples_split=2, n_estimators=500; total time=  14.7s\n",
      "[CV] END max_depth=30, min_samples_split=2, n_estimators=500; total time=  14.8s\n",
      "[CV] END max_depth=30, min_samples_split=10, n_estimators=500; total time=  14.5s\n",
      "[CV] END max_depth=30, min_samples_split=10, n_estimators=500; total time=  15.5s\n",
      "[CV] END max_depth=30, min_samples_split=10, n_estimators=500; total time=  15.1s\n",
      "[CV] END max_depth=50, min_samples_split=10, n_estimators=1000; total time=  35.1s\n",
      "[CV] END max_depth=50, min_samples_split=10, n_estimators=1000; total time=  35.6s\n",
      "[CV] END max_depth=50, min_samples_split=10, n_estimators=1000; total time=  36.0s\n",
      "[CV] END max_depth=150, min_samples_split=5, n_estimators=300; total time=  11.6s\n",
      "[CV] END max_depth=150, min_samples_split=5, n_estimators=300; total time=  10.9s\n",
      "[CV] END max_depth=150, min_samples_split=5, n_estimators=300; total time=  11.4s\n",
      "[CV] END max_depth=30, min_samples_split=2, n_estimators=100; total time=   3.1s\n",
      "[CV] END max_depth=30, min_samples_split=2, n_estimators=100; total time=   3.1s\n",
      "[CV] END max_depth=30, min_samples_split=2, n_estimators=100; total time=   3.1s\n",
      "[CV] END max_depth=125, min_samples_split=10, n_estimators=1000; total time=  35.4s\n",
      "[CV] END max_depth=125, min_samples_split=10, n_estimators=1000; total time=  35.8s\n",
      "[CV] END max_depth=125, min_samples_split=10, n_estimators=1000; total time=  35.1s\n",
      "[CV] END max_depth=50, min_samples_split=5, n_estimators=300; total time=  10.5s\n",
      "[CV] END max_depth=50, min_samples_split=5, n_estimators=300; total time=  10.3s\n",
      "[CV] END max_depth=50, min_samples_split=5, n_estimators=300; total time=  10.7s\n",
      "[CV] END max_depth=150, min_samples_split=2, n_estimators=500; total time=  18.2s\n",
      "[CV] END max_depth=150, min_samples_split=2, n_estimators=500; total time=  18.6s\n",
      "[CV] END max_depth=150, min_samples_split=2, n_estimators=500; total time=  17.8s\n",
      "[CV] END max_depth=125, min_samples_split=10, n_estimators=500; total time=  17.4s\n",
      "[CV] END max_depth=125, min_samples_split=10, n_estimators=500; total time=  17.3s\n",
      "[CV] END max_depth=125, min_samples_split=10, n_estimators=500; total time=  17.4s\n",
      "[CV] END max_depth=30, min_samples_split=5, n_estimators=100; total time=   3.1s\n",
      "[CV] END max_depth=30, min_samples_split=5, n_estimators=100; total time=   3.0s\n",
      "[CV] END max_depth=30, min_samples_split=5, n_estimators=100; total time=   3.1s\n",
      "Best Parameters: {'n_estimators': 1000, 'min_samples_split': 10, 'max_depth': 125}\n",
      "Tuned Random Forest Accuracy: 0.6961120640365923\n"
     ]
    }
   ],
   "source": [
    "from sklearn.model_selection import RandomizedSearchCV\n",
    "\n",
    "# Define parameter for RandomizedSearch\n",
    "param_grid = {\n",
    "    'n_estimators': [100, 300, 500, 1000],  # Number of trees\n",
    "    'max_depth': [30, 50, 100, 125, 150],     # Depth of trees\n",
    "    'min_samples_split': [2, 5, 10]   # Minimum samples per split\n",
    "}\n",
    "\n",
    "# Run RandomizedSearch\n",
    "random_search = RandomizedSearchCV(RandomForestClassifier(random_state=42, n_jobs=-1), param_grid, cv=3, verbose=2, n_iter=15)\n",
    "random_search.fit(X_train, y_train)\n",
    "\n",
    "# Best parameters\n",
    "print(\"Best Parameters:\", random_search.best_params_)\n",
    "\n",
    "# Train final model with best params\n",
    "best_rf = random_search.best_estimator_\n",
    "y_pred_best = best_rf.predict(X_val)\n",
    "\n",
    "# Evaluate tuned model\n",
    "print(\"Tuned Random Forest Accuracy:\", accuracy_score(y_val, y_pred_best))"
   ]
  },
  {
   "cell_type": "code",
   "execution_count": null,
   "metadata": {},
   "outputs": [
    {
     "name": "stdout",
     "output_type": "stream",
     "text": [
      "              precision    recall  f1-score   support\n",
      "\n",
      "        left       0.76      0.63      0.69      2438\n",
      "      center       0.84      0.56      0.67      1998\n",
      "       right       0.61      0.86      0.71      2560\n",
      "\n",
      "    accuracy                           0.70      6996\n",
      "   macro avg       0.74      0.69      0.69      6996\n",
      "weighted avg       0.73      0.70      0.69      6996\n",
      "\n"
     ]
    }
   ],
   "source": [
    "print(classification_report(y_val, y_pred_best, target_names=['left', 'center', 'right']))"
   ]
  },
  {
   "cell_type": "markdown",
   "metadata": {},
   "source": [
    "### Error Analysis\n"
   ]
  },
  {
   "cell_type": "code",
   "execution_count": 33,
   "metadata": {},
   "outputs": [
    {
     "data": {
      "text/html": [
       "<div>\n",
       "<style scoped>\n",
       "    .dataframe tbody tr th:only-of-type {\n",
       "        vertical-align: middle;\n",
       "    }\n",
       "\n",
       "    .dataframe tbody tr th {\n",
       "        vertical-align: top;\n",
       "    }\n",
       "\n",
       "    .dataframe thead th {\n",
       "        text-align: right;\n",
       "    }\n",
       "</style>\n",
       "<table border=\"1\" class=\"dataframe\">\n",
       "  <thead>\n",
       "    <tr style=\"text-align: right;\">\n",
       "      <th></th>\n",
       "      <th>content_original</th>\n",
       "      <th>bias</th>\n",
       "      <th>predicted_bias</th>\n",
       "    </tr>\n",
       "  </thead>\n",
       "  <tbody>\n",
       "    <tr>\n",
       "      <th>29283</th>\n",
       "      <td>Donald Trump will release “very, very specific...</td>\n",
       "      <td>0</td>\n",
       "      <td>2</td>\n",
       "    </tr>\n",
       "    <tr>\n",
       "      <th>29290</th>\n",
       "      <td>Let's not even go into the attacks on reproduc...</td>\n",
       "      <td>0</td>\n",
       "      <td>2</td>\n",
       "    </tr>\n",
       "    <tr>\n",
       "      <th>29307</th>\n",
       "      <td>The 2018 midterm elections will be critical fo...</td>\n",
       "      <td>2</td>\n",
       "      <td>0</td>\n",
       "    </tr>\n",
       "    <tr>\n",
       "      <th>29311</th>\n",
       "      <td>Jobless claims soared again in early April as ...</td>\n",
       "      <td>2</td>\n",
       "      <td>0</td>\n",
       "    </tr>\n",
       "    <tr>\n",
       "      <th>29318</th>\n",
       "      <td>Egypt's president on Thursday issued constitut...</td>\n",
       "      <td>2</td>\n",
       "      <td>0</td>\n",
       "    </tr>\n",
       "    <tr>\n",
       "      <th>29327</th>\n",
       "      <td>President Donald Trump saw his approval number...</td>\n",
       "      <td>1</td>\n",
       "      <td>0</td>\n",
       "    </tr>\n",
       "    <tr>\n",
       "      <th>29331</th>\n",
       "      <td>The Trump administration and its Republican en...</td>\n",
       "      <td>0</td>\n",
       "      <td>2</td>\n",
       "    </tr>\n",
       "    <tr>\n",
       "      <th>29339</th>\n",
       "      <td>Was it someone inside the CIA, a \"mole,\" who g...</td>\n",
       "      <td>2</td>\n",
       "      <td>0</td>\n",
       "    </tr>\n",
       "    <tr>\n",
       "      <th>29344</th>\n",
       "      <td>If you want a hot take about the Middle East, ...</td>\n",
       "      <td>0</td>\n",
       "      <td>1</td>\n",
       "    </tr>\n",
       "    <tr>\n",
       "      <th>29348</th>\n",
       "      <td>Dan Lucas\\n\\nSalem Statesman Journal\\n\\nI was ...</td>\n",
       "      <td>2</td>\n",
       "      <td>1</td>\n",
       "    </tr>\n",
       "  </tbody>\n",
       "</table>\n",
       "</div>"
      ],
      "text/plain": [
       "                                        content_original  bias  predicted_bias\n",
       "29283  Donald Trump will release “very, very specific...     0               2\n",
       "29290  Let's not even go into the attacks on reproduc...     0               2\n",
       "29307  The 2018 midterm elections will be critical fo...     2               0\n",
       "29311  Jobless claims soared again in early April as ...     2               0\n",
       "29318  Egypt's president on Thursday issued constitut...     2               0\n",
       "29327  President Donald Trump saw his approval number...     1               0\n",
       "29331  The Trump administration and its Republican en...     0               2\n",
       "29339  Was it someone inside the CIA, a \"mole,\" who g...     2               0\n",
       "29344  If you want a hot take about the Middle East, ...     0               1\n",
       "29348  Dan Lucas\\n\\nSalem Statesman Journal\\n\\nI was ...     2               1"
      ]
     },
     "execution_count": 33,
     "metadata": {},
     "output_type": "execute_result"
    }
   ],
   "source": [
    "# show the errors of the model\n",
    "error_df = df[df['split'] == 'valid'].copy()\n",
    "error_df['predicted_bias'] = y_pred_best\n",
    "error_df['correct'] = error_df['bias'] == error_df['predicted_bias']\n",
    "error_df[error_df['correct'] == False][['content_original', 'bias', 'predicted_bias']].head(10)"
   ]
  },
  {
   "cell_type": "markdown",
   "metadata": {},
   "source": [
    "The model struggles with distinguishing between left (0) and right (2) biases, often misclassifying left-leaning text as right and vice versa, suggesting feature overlap or dataset imbalance. PCA is great at helping with this."
   ]
  },
  {
   "cell_type": "code",
   "execution_count": null,
   "metadata": {},
   "outputs": [
    {
     "data": {
      "image/png": "[encoded data removed]",
      "text/plain": [
       "<Figure size 1000x600 with 1 Axes>"
      ]
     },
     "metadata": {},
     "output_type": "display_data"
    }
   ],
   "source": [
    "#plot the feature importance\n",
    "feature_importance = best_rf.feature_importances_\n",
    "sorted_idx = feature_importance.argsort()\n",
    "\n",
    "plt.figure(figsize=(10, 6))\n",
    "plt.barh(np.arange(20), feature_importance[sorted_idx][-20:])\n",
    "plt.yticks(np.arange(20), np.array(feature_names)[sorted_idx][-20:])\n",
    "plt.xlabel(\"Random Forest Feature Importance\")\n",
    "plt.ylabel(\"Feature\")\n",
    "plt.title(\"Top 20 Important Features\")\n",
    "plt.show()\n"
   ]
  },
  {
   "cell_type": "code",
   "execution_count": null,
   "metadata": {},
   "outputs": [
    {
     "name": "stdout",
     "output_type": "stream",
     "text": [
      "Requirement already satisfied: seaborn in /opt/anaconda3/lib/python3.12/site-packages (0.13.2)\n",
      "Requirement already satisfied: numpy!=1.24.0,>=1.20 in /opt/anaconda3/lib/python3.12/site-packages (from seaborn) (1.26.4)\n",
      "Requirement already satisfied: pandas>=1.2 in /opt/anaconda3/lib/python3.12/site-packages (from seaborn) (2.2.3)\n",
      "Requirement already satisfied: matplotlib!=3.6.1,>=3.4 in /opt/anaconda3/lib/python3.12/site-packages (from seaborn) (3.8.4)\n",
      "Requirement already satisfied: contourpy>=1.0.1 in /opt/anaconda3/lib/python3.12/site-packages (from matplotlib!=3.6.1,>=3.4->seaborn) (1.2.0)\n",
      "Requirement already satisfied: cycler>=0.10 in /opt/anaconda3/lib/python3.12/site-packages (from matplotlib!=3.6.1,>=3.4->seaborn) (0.11.0)\n",
      "Requirement already satisfied: fonttools>=4.22.0 in /opt/anaconda3/lib/python3.12/site-packages (from matplotlib!=3.6.1,>=3.4->seaborn) (4.51.0)\n",
      "Requirement already satisfied: kiwisolver>=1.3.1 in /opt/anaconda3/lib/python3.12/site-packages (from matplotlib!=3.6.1,>=3.4->seaborn) (1.4.4)\n",
      "Requirement already satisfied: packaging>=20.0 in /opt/anaconda3/lib/python3.12/site-packages (from matplotlib!=3.6.1,>=3.4->seaborn) (23.2)\n",
      "Requirement already satisfied: pillow>=8 in /opt/anaconda3/lib/python3.12/site-packages (from matplotlib!=3.6.1,>=3.4->seaborn) (10.3.0)\n",
      "Requirement already satisfied: pyparsing>=2.3.1 in /opt/anaconda3/lib/python3.12/site-packages (from matplotlib!=3.6.1,>=3.4->seaborn) (3.0.9)\n",
      "Requirement already satisfied: python-dateutil>=2.7 in /opt/anaconda3/lib/python3.12/site-packages (from matplotlib!=3.6.1,>=3.4->seaborn) (2.9.0.post0)\n",
      "Requirement already satisfied: pytz>=2020.1 in /opt/anaconda3/lib/python3.12/site-packages (from pandas>=1.2->seaborn) (2024.1)\n",
      "Requirement already satisfied: tzdata>=2022.7 in /opt/anaconda3/lib/python3.12/site-packages (from pandas>=1.2->seaborn) (2023.3)\n",
      "Requirement already satisfied: six>=1.5 in /opt/anaconda3/lib/python3.12/site-packages (from python-dateutil>=2.7->matplotlib!=3.6.1,>=3.4->seaborn) (1.16.0)\n",
      "Note: you may need to restart the kernel to use updated packages.\n"
     ]
    },
    {
     "data": {
      "image/png": "[encoded data removed]",
      "text/plain": [
       "<Figure size 800x600 with 2 Axes>"
      ]
     },
     "metadata": {},
     "output_type": "display_data"
    }
   ],
   "source": [
    "# plot the confusion matrix\n",
    "from sklearn.metrics import confusion_matrix\n",
    "import seaborn as sns\n",
    "\n",
    "# Define biases\n",
    "biases = df['bias_text'].unique()\n",
    "\n",
    "# Compute confusion matrix\n",
    "conf_matrix = confusion_matrix(y_val, y_pred_best)\n",
    "\n",
    "# Plot confusion matrix\n",
    "plt.figure(figsize=(8, 6))\n",
    "sns.heatmap(conf_matrix, annot=True, fmt='d', cmap='Blues', xticklabels=biases, yticklabels=biases)\n",
    "plt.title(\"Confusion Matrix\")\n",
    "plt.xlabel(\"Predicted Labels\")\n",
    "plt.ylabel(\"True Labels\")\n",
    "plt.show()"
   ]
  },
  {
   "cell_type": "markdown",
   "metadata": {},
   "source": [
    "The model overpredicts “Center”, frequently misclassifying Left and Right as Center."
   ]
  },
  {
   "cell_type": "markdown",
   "metadata": {},
   "source": [
    "### PCA"
   ]
  },
  {
   "cell_type": "code",
   "execution_count": null,
   "metadata": {},
   "outputs": [
    {
     "data": {
      "image/png": "[encoded data removed]",
      "text/plain": [
       "<Figure size 1000x600 with 1 Axes>"
      ]
     },
     "metadata": {},
     "output_type": "display_data"
    }
   ],
   "source": [
    "from sklearn.decomposition import PCA\n",
    "import numpy as np\n",
    "import matplotlib.pyplot as plt\n",
    "\n",
    "# Initialize PCA with 2000 components\n",
    "pca = PCA(n_components=2000)\n",
    "X_pca = pca.fit_transform(X)    # Fit and transform the data\n",
    "\n",
    "\n",
    "# Plot explained variance to find the best n_components\n",
    "plt.figure(figsize=(10, 6))\n",
    "plt.plot(np.cumsum(pca.explained_variance_ratio_))\n",
    "plt.xlabel('Number of Components')\n",
    "plt.ylabel('Explained Variance')\n",
    "plt.title('Explained Variance vs. Number of Components')\n",
    "plt.grid()\n",
    "plt.show()\n"
   ]
  },
  {
   "cell_type": "code",
   "execution_count": null,
   "metadata": {},
   "outputs": [],
   "source": [
    "# Apply PCA with optimal components\n",
    "pca = PCA(n_components=1800)\n",
    "X_train_pca = pca.fit_transform(X_train)\n",
    "X_test_pca = pca.transform(X_test)\n",
    "X_val_pca = pca.transform(X_val)"
   ]
  },
  {
   "cell_type": "code",
   "execution_count": null,
   "metadata": {},
   "outputs": [
    {
     "name": "stdout",
     "output_type": "stream",
     "text": [
      "Random Forest Accuracy after PCA: 0.542166952544311\n",
      "Classification Report:\n",
      "               precision    recall  f1-score   support\n",
      "\n",
      "        left       0.57      0.52      0.54      2438\n",
      "      center       0.74      0.23      0.36      1998\n",
      "       right       0.50      0.81      0.62      2560\n",
      "\n",
      "    accuracy                           0.54      6996\n",
      "   macro avg       0.60      0.52      0.50      6996\n",
      "weighted avg       0.59      0.54      0.52      6996\n",
      "\n"
     ]
    }
   ],
   "source": [
    "from sklearn.ensemble import RandomForestClassifier\n",
    "from sklearn.metrics import accuracy_score, classification_report\n",
    "\n",
    "# Train Random Forest on PCA-reduced features\n",
    "rf_clf_pca = RandomForestClassifier(n_estimators=1000, random_state=42, n_jobs=-1)\n",
    "rf_clf_pca.fit(X_train_pca, y_train)\n",
    "\n",
    "# Predict and evaluate\n",
    "y_pred_pca = rf_clf_pca.predict(X_val_pca)\n",
    "accuracy_pca = accuracy_score(y_val, y_pred_pca)\n",
    "classification_report_pca = classification_report(y_val, y_pred_pca, target_names=['left', 'center', 'right'])\n",
    "\n",
    "print(\"Random Forest Accuracy after PCA:\", accuracy_pca)\n",
    "print(\"Classification Report:\\n\", classification_report_pca)"
   ]
  },
  {
   "cell_type": "markdown",
   "metadata": {},
   "source": [
    "To improve classification performance, we applied Principal Component Analysis (PCA) to reduce dimensionality before training the Random Forest model. However, the results show that PCA significantly worsened the accuracy, dropping from 0.70 (original model) to 0.54. The recall for the “Center” class plummeted to 0.23, indicating that the model now struggles even more with detecting center-leaning samples. Additionally, while recall for the “Right” class remains high (0.81), its precision is weak (0.50), leading to frequent false positives. Compared to the previous Random Search-tuned Random Forest model, PCA has degraded performance, making it ineffective for this classification task. This suggests that dimensionality reduction removed important features, highlighting the need for better feature selection or deep learning models instead."
   ]
  },
  {
   "cell_type": "markdown",
   "metadata": {},
   "source": [
    "After fine-tuning through Random Search, the Random Forest model achieved 70% accuracy, effectively classifying left, center, and right biases, with high recall for “Right” (0.86) and balanced precision. However, it struggled with misclassifying “Left” and “Right” as “Center”, leading to low recall for “Center” (0.56) and low precision for “Right” (0.61), indicating frequent false positives. To address these issues, we applied PCA for dimensionality reduction, but it significantly worsened the model’s performance, dropping accuracy to 0.54. The recall for “Center” plummeted to 0.23, while precision for “Right” fell to 0.50, suggesting PCA removed essential features rather than improving generalization.\n",
    "\n",
    "These results reflect the broader challenge of how media sources differ in their framing of news—certain ideological alignments share linguistic features, making automatic classification difficult. Machine learning provides a promising approach to categorizing statements by ideological bias, but it requires robust feature engineering, class balancing, and advanced models to handle subtle contextual differences."
   ]
  }
 ],
 "metadata": {
  "kernelspec": {
   "display_name": "base",
   "language": "python",
   "name": "python3"
  },
  "language_info": {
   "codemirror_mode": {
    "name": "ipython",
    "version": 3
   },
   "file_extension": ".py",
   "mimetype": "text/x-python",
   "name": "python",
   "nbconvert_exporter": "python",
   "pygments_lexer": "ipython3",
   "version": "3.12.4"
  }
 },
 "nbformat": 4,
 "nbformat_minor": 2
}
